{
  "nbformat": 4,
  "nbformat_minor": 0,
  "metadata": {
    "colab": {
      "name": "Stage D Hamoye personal lesson",
      "provenance": [],
      "authorship_tag": "ABX9TyP3ZO8gCvhmrSebNIia87tr",
      "include_colab_link": true
    },
    "kernelspec": {
      "name": "python3",
      "display_name": "Python 3"
    }
  },
  "cells": [
    {
      "cell_type": "markdown",
      "metadata": {
        "id": "view-in-github",
        "colab_type": "text"
      },
      "source": [
        "<a href=\"https://colab.research.google.com/github/moreira-presh/HAMOYE-INTERNSHIP-2020/blob/master/Stage_D_Hamoye_personal_lesson.ipynb\" target=\"_parent\"><img src=\"https://colab.research.google.com/assets/colab-badge.svg\" alt=\"Open In Colab\"/></a>"
      ]
    },
    {
      "cell_type": "markdown",
      "metadata": {
        "id": "SF3SmNXeiPjs",
        "colab_type": "text"
      },
      "source": [
        "Hi, This is PRECIOUS OREKHA and I will be making a summarized/detailed explanation of some basics needed to understand TensorFlow.\n",
        "\n",
        "This was done to help soothen the confusion in the Lesson 1 & 2 of the **Hamoye** note.\n",
        "\n",
        "**Dataset :** MNIST\n",
        "\n",
        "I'm still trying to fully grasp the whole concept of Tensor flow so I'd really apppreciate your contributions/criticism.\n",
        "\n",
        "Do well to star this if it was helpful.\n"
      ]
    },
    {
      "cell_type": "code",
      "metadata": {
        "id": "Ut3hSlkBnHb7",
        "colab_type": "code",
        "colab": {}
      },
      "source": [
        "import numpy as np\n",
        "import matplotlib.pyplot as plt\n",
        "import tensorflow.compat.v1 as tf\n",
        "\n",
        "from tensorflow import keras\n",
        "mnist = keras.datasets.mnist\n",
        "(train_images, train_labels), (test_images, test_labels) = mnist.load_data() # data splitted into testing and training sets"
      ],
      "execution_count": 1,
      "outputs": []
    },
    {
      "cell_type": "code",
      "metadata": {
        "id": "YvAlOmDgX1gM",
        "colab_type": "code",
        "colab": {}
      },
      "source": [
        ""
      ],
      "execution_count": 1,
      "outputs": []
    },
    {
      "cell_type": "code",
      "metadata": {
        "id": "INCI5bFUvELX",
        "colab_type": "code",
        "colab": {
          "base_uri": "https://localhost:8080/",
          "height": 35
        },
        "outputId": "ea5d034a-42e0-48e4-9314-e55433a74df1"
      },
      "source": [
        "print(train_labels[0]) # just checking out abbitrary numbers in the train data"
      ],
      "execution_count": 2,
      "outputs": [
        {
          "output_type": "stream",
          "text": [
            "5\n"
          ],
          "name": "stdout"
        }
      ]
    },
    {
      "cell_type": "code",
      "metadata": {
        "id": "T7xkqp89wlrS",
        "colab_type": "code",
        "colab": {
          "base_uri": "https://localhost:8080/",
          "height": 265
        },
        "outputId": "9c7726f0-bbcc-41d4-bf36-b672006112c5"
      },
      "source": [
        "plt.imshow(train_images[2090],cmap=plt.cm.binary) # the result gives the labels(nummbers) btw 0 to 9\n",
        "plt.show()"
      ],
      "execution_count": 3,
      "outputs": [
        {
          "output_type": "display_data",
          "data": {
            "image/png": "[encoded data removed]",
            "text/plain": [
              "<Figure size 432x288 with 1 Axes>"
            ]
          },
          "metadata": {
            "tags": [],
            "needs_background": "light"
          }
        }
      ]
    },
    {
      "cell_type": "code",
      "metadata": {
        "id": "ZP3yHZ_p19fy",
        "colab_type": "code",
        "colab": {
          "base_uri": "https://localhost:8080/",
          "height": 1000
        },
        "outputId": "405fc6a1-1278-40c0-f3e8-c3acd379eae5"
      },
      "source": [
        "train_images[2090]\n",
        "\n",
        "# doing this shows us our images are in arrays of 28*28 pixels\n",
        "#  our data shows the pixel values and what they represent.\n",
        "# we can see for a list values between 0 - 255 where those values rep ranges of colour scale\n",
        "# for example 0 could rep total black and as it increases to 255 it becomes less black (white)"
      ],
      "execution_count": 4,
      "outputs": [
        {
          "output_type": "execute_result",
          "data": {
            "text/plain": [
              "array([[  0,   0,   0,   0,   0,   0,   0,   0,   0,   0,   0,   0,   0,\n",
              "          0,   0,   0,   0,   0,   0,   0,   0,   0,   0,   0,   0,   0,\n",
              "          0,   0],\n",
              "       [  0,   0,   0,   0,   0,   0,   0,   0,   0,   0,   0,   0,   0,\n",
              "          0,   0,   0,   0,   0,   0,   0,   0,   0,   0,   0,   0,   0,\n",
              "          0,   0],\n",
              "       [  0,   0,   0,   0,   0,   0,   0,   0,   0,   0,   0,   0,   0,\n",
              "          0,   0,   0,   0,   0,   0,   0,   0,   0,   0,   0,   0,   0,\n",
              "          0,   0],\n",
              "       [  0,   0,   0,   0,   0,   0,   0,   0,   0,   0,   0,   0,   0,\n",
              "          0,   0,   0,   0,   0,   0,   0,   0,   0,   0,   0,   0,   0,\n",
              "          0,   0],\n",
              "       [  0,   0,   0,   0,   0,   0,   0,   0,   0,   0,   0,   0,   0,\n",
              "          0,   0,   0,   0,   0,   0,   0,   0,   0,   0,   0,   0,   0,\n",
              "          0,   0],\n",
              "       [  0,   0,   0,   0,   0,   0,   0,   0,   0,   0,   0,   0,   0,\n",
              "          0,   0,   0,   0,   0,   0,   0,   0,   0,   0,   0,   0,   0,\n",
              "          0,   0],\n",
              "       [  0,   0,   0,   0,   0,   0,   0,   0,   0,   0,   0,   0,   0,\n",
              "          0,   0,   0,   0,   0,   0,   0,   0,   0,   0,   0,   0,   0,\n",
              "          0,   0],\n",
              "       [  0,   0,   0,   0,   0, 139, 254, 254, 247, 118, 118, 118, 154,\n",
              "        254, 165, 121, 254, 198,  79,   0,   0,   0,   0,   0,   0,   0,\n",
              "          0,   0],\n",
              "       [  0,   0,   0,   0,   0, 213, 253, 253, 253, 253, 253, 253, 253,\n",
              "        253, 253, 253, 253, 253, 247, 177,   0,   0,   0,   0,   0,   0,\n",
              "          0,   0],\n",
              "       [  0,   0,   0,   0,   0, 172, 253, 253, 253, 253, 253, 253, 253,\n",
              "        253, 253, 253, 253, 253, 253, 243,  63,   0,   0,   0,   0,   0,\n",
              "          0,   0],\n",
              "       [  0,   0,   0,   0,   0,  19,  91, 198, 201, 253, 253, 253, 253,\n",
              "        253, 253, 253, 253, 253, 253, 253,  75,   0,   0,   0,   0,   0,\n",
              "          0,   0],\n",
              "       [  0,   0,   0,   0,   0,   0,   0,   0,   5,  82,  82,  82,  82,\n",
              "         82,  82,  82, 165, 253, 253, 253,  75,   0,   0,   0,   0,   0,\n",
              "          0,   0],\n",
              "       [  0,   0,   0,   0,   0,   0,   0,   0,   0,   0,   0,   0,   0,\n",
              "          0,   0,   1, 131, 253, 253, 253,  75,   0,   0,   0,   0,   0,\n",
              "          0,   0],\n",
              "       [  0,   0,   0,   0,   0,   0,   0,   0,   0,   0,   0,   0,   0,\n",
              "          0,   0,   7, 253, 253, 253, 221,  37,   0,   0,   0,   0,   0,\n",
              "          0,   0],\n",
              "       [  0,   0,   0,   0,   0,   0,   0,   0,   0,   0,   0,   0,   0,\n",
              "          0,   0,   7, 253, 253, 253, 191,   0,   0,   0,   0,   0,   0,\n",
              "          0,   0],\n",
              "       [  0,   0,   0,   0,   0,   0,   0,   0,   0,   0,   0,   0,   0,\n",
              "          0,   0, 130, 253, 253, 253, 191,   0,   0,   0,   0,   0,   0,\n",
              "          0,   0],\n",
              "       [  0,   0,   0,   0,   0,   0,   0,   0,   0,   0,   0,   0,   0,\n",
              "          0,   0, 144, 253, 253, 253, 191,   0,   0,   0,   0,   0,   0,\n",
              "          0,   0],\n",
              "       [  0,   0,   0,   0,   0,   0,   0,   0,   0,   0,   0,   0,   0,\n",
              "          0,  21, 224, 253, 253, 253, 165,   0,   0,   0,   0,   0,   0,\n",
              "          0,   0],\n",
              "       [  0,   0,   0,   0,   0,   0,   0,   0,   0,   0,   0,   0,   0,\n",
              "          0,  28, 253, 253, 253, 244,  48,   0,   0,   0,   0,   0,   0,\n",
              "          0,   0],\n",
              "       [  0,   0,   0,   0,   0,   0,   0,   0,   0,   0,   0,   0,   0,\n",
              "          0, 107, 253, 253, 253, 170,   0,   0,   0,   0,   0,   0,   0,\n",
              "          0,   0],\n",
              "       [  0,   0,   0,   0,   0,   0,   0,   0,   0,   0,   0,   0,   0,\n",
              "          0, 165, 253, 253, 253, 104,   0,   0,   0,   0,   0,   0,   0,\n",
              "          0,   0],\n",
              "       [  0,   0,   0,   0,   0,   0,   0,   0,   0,   0,   0,   0,   0,\n",
              "         20, 201, 253, 253, 253,  34,   0,   0,   0,   0,   0,   0,   0,\n",
              "          0,   0],\n",
              "       [  0,   0,   0,   0,   0,   0,   0,   0,   0,   0,   0,   0,   0,\n",
              "        168, 253, 253, 253, 219,  23,   0,   0,   0,   0,   0,   0,   0,\n",
              "          0,   0],\n",
              "       [  0,   0,   0,   0,   0,   0,   0,   0,   0,   0,   0,   0,   0,\n",
              "        186, 253, 253, 253, 150,   0,   0,   0,   0,   0,   0,   0,   0,\n",
              "          0,   0],\n",
              "       [  0,   0,   0,   0,   0,   0,   0,   0,   0,   0,   0,   0,   0,\n",
              "        186, 253, 253, 253,  53,   0,   0,   0,   0,   0,   0,   0,   0,\n",
              "          0,   0],\n",
              "       [  0,   0,   0,   0,   0,   0,   0,   0,   0,   0,   0,   0,   0,\n",
              "        186, 253, 253, 176,   5,   0,   0,   0,   0,   0,   0,   0,   0,\n",
              "          0,   0],\n",
              "       [  0,   0,   0,   0,   0,   0,   0,   0,   0,   0,   0,   0,   0,\n",
              "         85, 190, 116,  60,   0,   0,   0,   0,   0,   0,   0,   0,   0,\n",
              "          0,   0],\n",
              "       [  0,   0,   0,   0,   0,   0,   0,   0,   0,   0,   0,   0,   0,\n",
              "          0,   0,   0,   0,   0,   0,   0,   0,   0,   0,   0,   0,   0,\n",
              "          0,   0]], dtype=uint8)"
            ]
          },
          "metadata": {
            "tags": []
          },
          "execution_count": 4
        }
      ]
    },
    {
      "cell_type": "markdown",
      "metadata": {
        "id": "Mds0o6Bd5Ezu",
        "colab_type": "text"
      },
      "source": [
        "1. We can Observe large numbers, so it is advisable to shrink our data so it falls within a certain range (small) for easy computation. \n",
        "\n",
        "2. What we do here is to modify our data so we have each value out of 1, i.e  we divide every single pixel value by 255 (being the highest).\n",
        "\n",
        "3. So because this training images are stored in a numpy array,we can simply divide our train_images by 255 and do same for test_images\n",
        "\n"
      ]
    },
    {
      "cell_type": "code",
      "metadata": {
        "id": "8iI3rDP93JCq",
        "colab_type": "code",
        "colab": {}
      },
      "source": [
        "train_images = train_images/255\n",
        "\n",
        "test_images = test_images/255\n",
        "\n",
        "# We obviously don't do the the same for (labels) because they are already btw 0-9 "
      ],
      "execution_count": 5,
      "outputs": []
    },
    {
      "cell_type": "code",
      "metadata": {
        "id": "anHAgp5GCSKp",
        "colab_type": "code",
        "colab": {
          "base_uri": "https://localhost:8080/",
          "height": 90
        },
        "outputId": "b4e3aa41-4e84-4e98-f638-008601878946"
      },
      "source": [
        "print (train_images.shape) # Before flattening is done\n",
        "print (test_images.shape)\n",
        "print (train_labels.shape)\n",
        "print (test_labels.shape)"
      ],
      "execution_count": 6,
      "outputs": [
        {
          "output_type": "stream",
          "text": [
            "(60000, 28, 28)\n",
            "(10000, 28, 28)\n",
            "(60000,)\n",
            "(10000,)\n"
          ],
          "name": "stdout"
        }
      ]
    },
    {
      "cell_type": "markdown",
      "metadata": {
        "id": "QH5vB2Cu7wuT",
        "colab_type": "text"
      },
      "source": [
        "#Creating a Model"
      ]
    },
    {
      "cell_type": "markdown",
      "metadata": {
        "id": "hBiWq7Ea8AcX",
        "colab_type": "text"
      },
      "source": [
        "Before we create a model, it is important to first;\n",
        "1. define the architecture of the model "
      ]
    },
    {
      "cell_type": "code",
      "metadata": {
        "id": "IzM8riLy6iXP",
        "colab_type": "code",
        "colab": {}
      },
      "source": [
        "model = keras.Sequential([\n",
        "      keras.layers.Flatten(input_shape=(28,28)), # this here is our first layer; \"Input layer\"\n",
        "      keras.layers.Dense(128, activation='relu'), # this is the second layer, Dense - each neurone/node is connected to other neurons in the next network\n",
        "      keras.layers.Dense(10,activation='softmax') ])# Output layer to produce expected 10 neurons\n",
        "     "
      ],
      "execution_count": 7,
      "outputs": []
    },
    {
      "cell_type": "markdown",
      "metadata": {
        "id": "1hNH5z3VEqm2",
        "colab_type": "text"
      },
      "source": [
        "We Flattend our data so it can be passable to the neurons it would be easily fitted into.\n",
        "Why?\n",
        "1. our 28*28 pixels represents 28 rows and 28 columns which is obviously complex for the single neuron\n",
        "2. Flattening helps us take those interior lists/arrays (28 rows/columns) and compresses it to a single list\n",
        "3. This gives us a single list of 784 pixels rather than 28*28 pixels\n",
        "\n",
        "\n",
        "**This is similar to the product function used in the Hamoye lesson notebook;**\n",
        "\n",
        " ***new_dimension = np.prod(train_images.shape[1:] )***\n",
        "\n",
        "where the \"prod\" multiplies the 28*28 pixels to give 784"
      ]
    },
    {
      "cell_type": "code",
      "metadata": {
        "id": "TrGeIbL4JhOH",
        "colab_type": "code",
        "colab": {}
      },
      "source": [
        ""
      ],
      "execution_count": 7,
      "outputs": []
    },
    {
      "cell_type": "markdown",
      "metadata": {
        "id": "596jQ2p5FM5U",
        "colab_type": "text"
      },
      "source": [
        "2. The Dense layer here is merely a fully connected layer where each neuron connects to several other neurons and like that.\n",
        "\n",
        "3. The number *128*, well from a video I watched, the tutor said this number is more like a 15-20% of the input layer of neurons, which in this case is 784.\n",
        "  Normally some fractions of the neurons in the  input layer are used in the hidden layer for training. 15% of 784 = 117.6 but we use 2exp7 = 128. Also mathematically using 2exp8 gives 256 which is more, maybe for the input layer.\n",
        "\n",
        "4. From our lesson note, the activation function helps to improve the complexities; i.e gives the ability for the netwrk to learn complex relationship between the input and output variables.\n",
        "\n",
        "The \"relu\" which is one example is fast and works well for a variety of applications.\n",
        "\n",
        "The \"softmax\" pick values for each neuron so that all those values add up to one, i.e. the probablity of the network thikning it is a certain value.\n",
        "\n",
        "\n"
      ]
    },
    {
      "cell_type": "code",
      "metadata": {
        "id": "2AF0Ut39EoRF",
        "colab_type": "code",
        "colab": {}
      },
      "source": [
        ""
      ],
      "execution_count": 7,
      "outputs": []
    },
    {
      "cell_type": "markdown",
      "metadata": {
        "id": "4Nfq-Fu8J77R",
        "colab_type": "text"
      },
      "source": [
        "#Set Parameter for our model"
      ]
    },
    {
      "cell_type": "code",
      "metadata": {
        "id": "FIkOJQVS6kWb",
        "colab_type": "code",
        "colab": {}
      },
      "source": [
        "model.compile(optimizer='adam', loss = \"sparse_categorical_crossentropy\", metrics=['accuracy'])\n",
        "\n",
        "# the loss function simply helps us understand the error, i.e how far the predicted value is from the actual value.\n"
      ],
      "execution_count": 8,
      "outputs": []
    },
    {
      "cell_type": "markdown",
      "metadata": {
        "id": "XEP-AfrFLXF4",
        "colab_type": "text"
      },
      "source": [
        "#Training our model"
      ]
    },
    {
      "cell_type": "code",
      "metadata": {
        "id": "zchsIHB3LV0q",
        "colab_type": "code",
        "colab": {
          "base_uri": "https://localhost:8080/",
          "height": 762
        },
        "outputId": "1421b542-65a0-4059-e399-ddb3584f51b7"
      },
      "source": [
        "model.fit(train_images,train_labels, epochs=20) # how many times the model see the info (train images/labels)\n",
        "\n",
        "# so what epochs does is that it randomly picks images and labels corresponding to each other and feeds that into the neural network.\n",
        "# So how many epochs you decide tell us how many times you want to see the same image \n",
        "# so the amount of epochs it runs the amount it sees the same image and obviosly makes a better decision about the image it has seen"
      ],
      "execution_count": 9,
      "outputs": [
        {
          "output_type": "stream",
          "text": [
            "Epoch 1/20\n",
            "1875/1875 [==============================] - 4s 2ms/step - loss: 0.2607 - accuracy: 0.9262\n",
            "Epoch 2/20\n",
            "1875/1875 [==============================] - 4s 2ms/step - loss: 0.1151 - accuracy: 0.9654\n",
            "Epoch 3/20\n",
            "1875/1875 [==============================] - 4s 2ms/step - loss: 0.0787 - accuracy: 0.9761\n",
            "Epoch 4/20\n",
            "1875/1875 [==============================] - 4s 2ms/step - loss: 0.0598 - accuracy: 0.9817\n",
            "Epoch 5/20\n",
            "1875/1875 [==============================] - 4s 2ms/step - loss: 0.0464 - accuracy: 0.9863\n",
            "Epoch 6/20\n",
            "1875/1875 [==============================] - 4s 2ms/step - loss: 0.0371 - accuracy: 0.9883\n",
            "Epoch 7/20\n",
            "1875/1875 [==============================] - 4s 2ms/step - loss: 0.0299 - accuracy: 0.9907\n",
            "Epoch 8/20\n",
            "1875/1875 [==============================] - 4s 2ms/step - loss: 0.0238 - accuracy: 0.9928\n",
            "Epoch 9/20\n",
            "1875/1875 [==============================] - 4s 2ms/step - loss: 0.0190 - accuracy: 0.9941\n",
            "Epoch 10/20\n",
            "1875/1875 [==============================] - 4s 2ms/step - loss: 0.0165 - accuracy: 0.9951\n",
            "Epoch 11/20\n",
            "1875/1875 [==============================] - 4s 2ms/step - loss: 0.0142 - accuracy: 0.9956\n",
            "Epoch 12/20\n",
            "1875/1875 [==============================] - 4s 2ms/step - loss: 0.0116 - accuracy: 0.9965\n",
            "Epoch 13/20\n",
            "1875/1875 [==============================] - 4s 2ms/step - loss: 0.0108 - accuracy: 0.9966\n",
            "Epoch 14/20\n",
            "1875/1875 [==============================] - 4s 2ms/step - loss: 0.0081 - accuracy: 0.9977\n",
            "Epoch 15/20\n",
            "1875/1875 [==============================] - 4s 2ms/step - loss: 0.0092 - accuracy: 0.9971\n",
            "Epoch 16/20\n",
            "1875/1875 [==============================] - 4s 2ms/step - loss: 0.0074 - accuracy: 0.9977\n",
            "Epoch 17/20\n",
            "1875/1875 [==============================] - 4s 2ms/step - loss: 0.0061 - accuracy: 0.9983\n",
            "Epoch 18/20\n",
            "1875/1875 [==============================] - 4s 2ms/step - loss: 0.0064 - accuracy: 0.9980\n",
            "Epoch 19/20\n",
            "1875/1875 [==============================] - 4s 2ms/step - loss: 0.0049 - accuracy: 0.9984\n",
            "Epoch 20/20\n",
            "1875/1875 [==============================] - 4s 2ms/step - loss: 0.0066 - accuracy: 0.9979\n"
          ],
          "name": "stdout"
        },
        {
          "output_type": "execute_result",
          "data": {
            "text/plain": [
              "<tensorflow.python.keras.callbacks.History at 0x7f6b00b19eb8>"
            ]
          },
          "metadata": {
            "tags": []
          },
          "execution_count": 9
        }
      ]
    },
    {
      "cell_type": "markdown",
      "metadata": {
        "id": "Y03_JoBEMd6z",
        "colab_type": "text"
      },
      "source": [
        "we can see here that while training, the degree of accuracy increased as the no of epoch increased. This is not always the same as somtimes it could lead to overfitting and may start decreasing at some point. So it is good we play with it by tweaking to see which gives better accuracy/lower loss\n",
        "\n",
        "\n",
        "Also we observe the loss function reduces at each instance, this is actually a good thing."
      ]
    },
    {
      "cell_type": "markdown",
      "metadata": {
        "id": "gElw9HU0NPPU",
        "colab_type": "text"
      },
      "source": [
        "## Testing the accuracy of the model"
      ]
    },
    {
      "cell_type": "code",
      "metadata": {
        "id": "_XRTVB4cLdGz",
        "colab_type": "code",
        "colab": {
          "base_uri": "https://localhost:8080/",
          "height": 35
        },
        "outputId": "acc7bb9c-04aa-4f2e-e9e1-ac554aeae340"
      },
      "source": [
        "test_loss, test_acc = model.evaluate(test_images, test_labels)"
      ],
      "execution_count": 10,
      "outputs": [
        {
          "output_type": "stream",
          "text": [
            "313/313 [==============================] - 0s 1ms/step - loss: 0.1080 - accuracy: 0.9773\n"
          ],
          "name": "stdout"
        }
      ]
    },
    {
      "cell_type": "code",
      "metadata": {
        "id": "h_m1zFWQNTwM",
        "colab_type": "code",
        "colab": {
          "base_uri": "https://localhost:8080/",
          "height": 35
        },
        "outputId": "7c59471c-8ce6-4191-bb30-d466278d5d72"
      },
      "source": [
        "print (\"Tested Accuracy\", test_acc)"
      ],
      "execution_count": 11,
      "outputs": [
        {
          "output_type": "stream",
          "text": [
            "Tested Accuracy 0.9772999882698059\n"
          ],
          "name": "stdout"
        }
      ]
    },
    {
      "cell_type": "markdown",
      "metadata": {
        "id": "qXt14R-EPHKt",
        "colab_type": "text"
      },
      "source": [
        "we can see an accuracy of 97 percent which means our model is actually very good"
      ]
    },
    {
      "cell_type": "markdown",
      "metadata": {
        "id": "mlwchXNZRvZM",
        "colab_type": "text"
      },
      "source": [
        "# **Now we predict our model**"
      ]
    },
    {
      "cell_type": "code",
      "metadata": {
        "id": "CPQpIUATO6SF",
        "colab_type": "code",
        "colab": {
          "base_uri": "https://localhost:8080/",
          "height": 126
        },
        "outputId": "ece576e4-a095-4067-8122-85e46403af94"
      },
      "source": [
        "prediction = model.predict(test_images)\n",
        "print(prediction[209])\n",
        "\n",
        "# 209 is just any random number, it could be 0 or anything.\n",
        "# we can see here that we have some sort of array (probability) with different numbers, which is actually difficult to interpret.\n",
        "# We will use the \"argmax\" fuction to index out the highest number from the array as our right prediction.\n",
        "print(\"\\n\")\n",
        "print(np.argmax(prediction[209]))"
      ],
      "execution_count": 12,
      "outputs": [
        {
          "output_type": "stream",
          "text": [
            "[1.04265639e-24 2.27652636e-18 3.46191920e-14 2.50375956e-06\n",
            " 1.16304896e-10 9.10934604e-14 5.39008757e-35 1.54520396e-10\n",
            " 1.57147610e-13 9.99997497e-01]\n",
            "\n",
            "\n",
            "9\n"
          ],
          "name": "stdout"
        }
      ]
    },
    {
      "cell_type": "markdown",
      "metadata": {
        "id": "sXi_eQo4VCIb",
        "colab_type": "text"
      },
      "source": [
        "We can see here that our model has actually predicted no 9 which rep the label/class in the dataset."
      ]
    },
    {
      "cell_type": "markdown",
      "metadata": {
        "id": "y7Jivw0gWCB1",
        "colab_type": "text"
      },
      "source": [
        "## **Comparing the Actual and Predicted values to check its accuracy**"
      ]
    },
    {
      "cell_type": "markdown",
      "metadata": {
        "id": "uxomj9ymWvzX",
        "colab_type": "text"
      },
      "source": [
        "Using a For Loop to go through the images in our test images and show them on the screen with their actual values to see if they match."
      ]
    },
    {
      "cell_type": "code",
      "metadata": {
        "id": "3AVWKA2gTzsz",
        "colab_type": "code",
        "colab": {
          "base_uri": "https://localhost:8080/",
          "height": 1000
        },
        "outputId": "a43fe9c0-40fb-449f-9523-440ec6cc4296"
      },
      "source": [
        "class_name = ['Zero','One','Two','Three','Four','Five','Six','Seven','Eight','Nine'] \n",
        "\n",
        "# doing this to avoid getting a type error in the test_labels which is in numeric form\n",
        "\n",
        "\n",
        "for i in range(10):\n",
        "  plt.grid(False)\n",
        "  plt.imshow(test_images[i],cmap = None)\n",
        "  plt.xlabel (\"Actual: \" + class_name[test_labels[i]]) \n",
        "  plt.title(\"Prediction: \" + class_name[np.argmax(prediction[i])])\n",
        "  plt.show()"
      ],
      "execution_count": 13,
      "outputs": [
        {
          "output_type": "display_data",
          "data": {
            "image/png": "[encoded data removed]",
            "text/plain": [
              "<Figure size 432x288 with 1 Axes>"
            ]
          },
          "metadata": {
            "tags": [],
            "needs_background": "light"
          }
        },
        {
          "output_type": "display_data",
          "data": {
            "image/png": "[encoded data removed]",
            "text/plain": [
              "<Figure size 432x288 with 1 Axes>"
            ]
          },
          "metadata": {
            "tags": [],
            "needs_background": "light"
          }
        },
        {
          "output_type": "display_data",
          "data": {
            "image/png": "[encoded data removed]",
            "text/plain": [
              "<Figure size 432x288 with 1 Axes>"
            ]
          },
          "metadata": {
            "tags": [],
            "needs_background": "light"
          }
        },
        {
          "output_type": "display_data",
          "data": {
            "image/png": "[encoded data removed]",
            "text/plain": [
              "<Figure size 432x288 with 1 Axes>"
            ]
          },
          "metadata": {
            "tags": [],
            "needs_background": "light"
          }
        },
        {
          "output_type": "display_data",
          "data": {
            "image/png": "[encoded data removed]",
            "text/plain": [
              "<Figure size 432x288 with 1 Axes>"
            ]
          },
          "metadata": {
            "tags": [],
            "needs_background": "light"
          }
        },
        {
          "output_type": "display_data",
          "data": {
            "image/png": "[encoded data removed]",
            "text/plain": [
              "<Figure size 432x288 with 1 Axes>"
            ]
          },
          "metadata": {
            "tags": [],
            "needs_background": "light"
          }
        },
        {
          "output_type": "display_data",
          "data": {
            "image/png": "[encoded data removed]",
            "text/plain": [
              "<Figure size 432x288 with 1 Axes>"
            ]
          },
          "metadata": {
            "tags": [],
            "needs_background": "light"
          }
        },
        {
          "output_type": "display_data",
          "data": {
            "image/png": "[encoded data removed]",
            "text/plain": [
              "<Figure size 432x288 with 1 Axes>"
            ]
          },
          "metadata": {
            "tags": [],
            "needs_background": "light"
          }
        },
        {
          "output_type": "display_data",
          "data": {
            "image/png": "[encoded data removed]",
            "text/plain": [
              "<Figure size 432x288 with 1 Axes>"
            ]
          },
          "metadata": {
            "tags": [],
            "needs_background": "light"
          }
        },
        {
          "output_type": "display_data",
          "data": {
            "image/png": "[encoded data removed]",
            "text/plain": [
              "<Figure size 432x288 with 1 Axes>"
            ]
          },
          "metadata": {
            "tags": [],
            "needs_background": "light"
          }
        }
      ]
    },
    {
      "cell_type": "markdown",
      "metadata": {
        "id": "Rgq9ELDIiERL",
        "colab_type": "text"
      },
      "source": [
        ""
      ]
    },
    {
      "cell_type": "markdown",
      "metadata": {
        "id": "KAq7UAQmaQBc",
        "colab_type": "text"
      },
      "source": [
        "We can see here that the Actual Values matched the Predicted values.\n",
        "\n",
        "This shows the model is ready for deployment."
      ]
    },
    {
      "cell_type": "code",
      "metadata": {
        "id": "exN0_8yGaRaW",
        "colab_type": "code",
        "colab": {}
      },
      "source": [
        ""
      ],
      "execution_count": 13,
      "outputs": []
    },
    {
      "cell_type": "markdown",
      "metadata": {
        "id": "CfsgcEoeao0w",
        "colab_type": "text"
      },
      "source": [
        "# Cheers!\n",
        "\n",
        "I hope this helped in any way possible.\n",
        "\n",
        "This was done to help us understand the codes applied in the **Hamoye** lesson note 1 & 2\n",
        "\n",
        "Please I'd appreciate collaboration to help make this better.\n",
        "\n",
        "**Student ID: Precious Orekha - 406ca4**"
      ]
    },
    {
      "cell_type": "code",
      "metadata": {
        "id": "_vrxMWuGku9c",
        "colab_type": "code",
        "colab": {}
      },
      "source": [
        ""
      ],
      "execution_count": null,
      "outputs": []
    }
  ]
}